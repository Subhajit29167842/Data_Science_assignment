{
 "cells": [
  {
   "cell_type": "code",
   "execution_count": 1,
   "metadata": {},
   "outputs": [],
   "source": [
    "# Import necessary libraries\n",
    "import pandas as pd\n",
    "from sklearn.metrics.pairwise import cosine_similarity\n",
    "from sklearn.preprocessing import StandardScaler\n",
    "\n",
    "# Load datasets\n",
    "customers = pd.read_csv('Customers.csv')\n",
    "products = pd.read_csv('Products.csv')\n",
    "transactions = pd.read_csv('Transactions.csv')\n"
   ]
  },
  {
   "cell_type": "code",
   "execution_count": 2,
   "metadata": {},
   "outputs": [
    {
     "name": "stdout",
     "output_type": "stream",
     "text": [
      "Lookalike model generated successfully and saved to Lookalike.csv.\n"
     ]
    }
   ],
   "source": [
    "\n",
    "# Data Preparation\n",
    "# Merge transactions with customer and product data\n",
    "merged_data = transactions.merge(customers, on='CustomerID').merge(products, on='ProductID')\n",
    "\n",
    "# Create a customer profile based on total spent and number of transactions\n",
    "customer_profile = merged_data.groupby('CustomerID').agg({\n",
    "    'TotalValue': 'sum',  # Total amount spent\n",
    "    'TransactionID': 'count'  # Number of transactions\n",
    "}).reset_index()\n",
    "\n",
    "# Rename columns for clarity\n",
    "customer_profile.rename(columns={'TransactionID': 'NumTransactions'}, inplace=True)\n",
    "\n",
    "# Normalize the data for similarity calculation\n",
    "scaler = StandardScaler()\n",
    "scaled_profiles = scaler.fit_transform(customer_profile[['TotalValue', 'NumTransactions']])\n",
    "\n",
    "# Calculate cosine similarity between customers\n",
    "similarity_matrix = cosine_similarity(scaled_profiles)\n",
    "\n",
    "# Create a DataFrame to hold similarity scores\n",
    "similarity_df = pd.DataFrame(similarity_matrix, index=customer_profile['CustomerID'], columns=customer_profile['CustomerID'])\n",
    "\n",
    "# Function to get top N lookalikes for a given customer ID\n",
    "def get_top_lookalikes(customer_id, n=3):\n",
    "    if customer_id not in similarity_df.index:\n",
    "        return [], []\n",
    "    similar_customers = similarity_df[customer_id].nlargest(n + 1)  # Get top N + 1 to exclude self\n",
    "    return similar_customers.index[1:], similar_customers.values[1:]\n",
    "\n",
    "# Generate lookalikes for the first 20 customers (C0001 - C0020)\n",
    "lookalikes_data = []\n",
    "for cust_id in customer_profile['CustomerID'].head(20):\n",
    "    lookalikes, scores = get_top_lookalikes(cust_id)\n",
    "    lookalike_str = '; '.join([f\"{look}({score:.4f})\" for look, score in zip(lookalikes, scores)])\n",
    "    lookalikes_data.append({'CustomerID': cust_id, 'Lookalikes': lookalike_str})\n",
    "\n",
    "# Create DataFrame and save to CSV\n",
    "lookalike_df = pd.DataFrame(lookalikes_data)\n",
    "lookalike_df.to_csv('Lookalike.csv', index=False)\n",
    "\n",
    "print(\"Lookalike model generated successfully and saved to Lookalike.csv.\")"
   ]
  }
 ],
 "metadata": {
  "language_info": {
   "name": "python"
  }
 },
 "nbformat": 4,
 "nbformat_minor": 2
}
